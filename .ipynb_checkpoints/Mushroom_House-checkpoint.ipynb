{
 "cells": [
  {
   "cell_type": "markdown",
   "metadata": {
    "toc": true
   },
   "source": [
    "<h1>Table of Contents<span class=\"tocSkip\"></span></h1>\n",
    "<div class=\"toc\"><ul class=\"toc-item\"></ul></div>"
   ]
  },
  {
   "cell_type": "code",
   "execution_count": 1,
   "metadata": {},
   "outputs": [],
   "source": [
    "import random\n",
    "from collections import Counter\n",
    "from string import ascii_uppercase"
   ]
  },
  {
   "cell_type": "code",
   "execution_count": 2,
   "metadata": {},
   "outputs": [],
   "source": [
    "class Board:\n",
    "    \"\"\"\n",
    "    <Doc string>\n",
    "    \"\"\"\n",
    "    def __init__(self, height, width):\n",
    "        self.height = height\n",
    "        self.width = width\n",
    "        self.size = self.height * self.width\n",
    "        self.slots = {(i, j): None for i in range(height) for j in range(width)}"
   ]
  },
  {
   "cell_type": "code",
   "execution_count": 3,
   "metadata": {},
   "outputs": [],
   "source": [
    "class Card:\n",
    "    \"\"\"\n",
    "    \"\"\"\n",
    "    def __init__(self, word):\n",
    "        self.word = word\n",
    "        self.flip = False"
   ]
  },
  {
   "cell_type": "code",
   "execution_count": 52,
   "metadata": {},
   "outputs": [],
   "source": [
    "class Player:\n",
    "    def __init__(self):\n",
    "        self.name = None\n",
    "        self.player_num = 0\n",
    "#        self.turn = False\n",
    "        self.record = []"
   ]
  },
  {
   "cell_type": "code",
   "execution_count": 76,
   "metadata": {},
   "outputs": [],
   "source": [
    "class Game:\n",
    "    \"\"\"\n",
    "    \n",
    "    Input(integer):\n",
    "    \"\"\"\n",
    "    def __init__(self):\n",
    "        #initialziation of game objects\n",
    "        self.board = Board(3, 6)\n",
    "        self.card_position = {}\n",
    "        self.exit = False\n",
    "        #Constants\n",
    "        self.R_TO_P_RATIO = 3.5\n",
    "        self.SPECIALS_RATIO = 2/7\n",
    "        self.POWERUP_RATIO = 1/7\n",
    "        self.BOWSERS_RATIO = 0.5\n",
    "        #initialziation of variables\n",
    "        self.current_player_num = 0\n",
    "        self.flame_count = 0\n",
    "        self.ice_count = 0\n",
    "        self.flight_count = 0\n",
    "        self.powerup_count = 0\n",
    "        self.bowser_count = 0\n",
    "        self.bowserjr_count = 0\n",
    "        #reference dictionaries\n",
    "        self.int_to_ascii_dict = {i: ascii_uppercase[i] for i in range(self.board.width)}\n",
    "        self.ascii_to_int_dict = {v: k for k, v in self.int_to_ascii_dict.items()}\n",
    "        \n",
    "    def init_game(self):\n",
    "        self.init_gamestate()\n",
    "        self.place_deck(self.shuffle_deck(self.create_deck()),self.board)\n",
    "        self.players = [Player(), Player()]\n",
    "        self.ask_for_name()\n",
    "        self.generate_pos()\n",
    "        self.print_board()\n",
    "    \n",
    "    def ask_for_name(self):\n",
    "        default = ['Mario', 'Luigi']\n",
    "        for i in range(2):\n",
    "            self.players[i].player_num = i+1\n",
    "            self.players[i].name = input('Please input name for Player {} (Default is {}): ' \\\n",
    "                                          .format(self.players[i].player_num, default[i])) or default[i]\n",
    "        self.players[0].turn = True\n",
    "        #self.players[0].name = input('Please input name for Player 1 (Default is Mario): ') or 'Mario'\n",
    "#         self.players[0].turn = True\n",
    "#         self.players[0].player_num = 1\n",
    "#         #self.players[1].name = input('Please input name for Player 2 (Default is Luigi): ') or 'Luigi'\n",
    "#         self.players[1].player_num = 2\n",
    "        \n",
    "    def init_gamestate(self):\n",
    "        self.gamestate = {}\n",
    "        for key in self.board.slots.keys():\n",
    "            self.gamestate[key] = Card(None).flip\n",
    "    \n",
    "    def create_deck(self):\n",
    "        \"\"\"\n",
    "        Input:\n",
    "            size(integer): size of deck\n",
    "            r_to_p_ratio(float): reward to penalty ratio in the deck\n",
    "        Output:\n",
    "            deck(list): a list consisting the contents of each card in the deck\n",
    "        \"\"\"\n",
    "        self.num_penalty = int(self.board.size / (self.R_TO_P_RATIO + 1))\n",
    "        self.num_rewards = self.board.size - self.num_penalty\n",
    "        rewards = Counter({'flame'   : round(self.num_rewards * self.SPECIALS_RATIO),\n",
    "                           'ice'     : round(self.num_rewards * self.SPECIALS_RATIO),\n",
    "                           'flight'  : round(self.num_rewards * self.SPECIALS_RATIO),\n",
    "                           'powerup' : round(self.num_rewards * self.POWERUP_RATIO)})\n",
    "        penalties = Counter({'bowser'  : round(self.num_penalty * self.BOWSERS_RATIO),\n",
    "                             'bowserjr': round(self.num_penalty * self.BOWSERS_RATIO)})\n",
    "        all_items = rewards + penalties\n",
    "        self.dead_by_bowser = penalties['bowser']\n",
    "        self.dead_by_bowserjr = penalties['bowserjr']\n",
    "        deck = []\n",
    "        for key, value in all_items.items():\n",
    "            for i in range(value):\n",
    "                deck.append(Card(str(key)))\n",
    "        return deck\n",
    "    \n",
    "    def shuffle_deck(self, deck):\n",
    "        random.shuffle(deck)\n",
    "        return deck\n",
    "    \n",
    "    def place_deck(self, deck, board):\n",
    "        keys = list(board.slots.keys())\n",
    "        for count, key in enumerate(keys):\n",
    "            self.card_position[key] = deck[count]\n",
    "    \n",
    "    def update_gamestate_and_rewards(self, pos):\n",
    "        self.gamestate[pos] = True\n",
    "        self.update_rewards(self.card_position[pos].word)\n",
    "        self.update_bowsers(self.card_position[pos].word)\n",
    "        self.update_record(self.card_position[pos].word)\n",
    "            \n",
    "    def print_board(self):\n",
    "        divider = '  +========+========+========+========+========+========+'\n",
    "        printable_board = []\n",
    "        printable_board.append('      A        B        C        D        E        F     ')\n",
    "        printable_board.append(divider)\n",
    "        for i in range(self.board.height):\n",
    "            row = str(i) + ' |'\n",
    "            for j in range(self.board.width):\n",
    "                if self.gamestate[(i,j)]:\n",
    "                    display = self.card_position[(i,j)].word\n",
    "                else:\n",
    "                    display = 'pick me!'\n",
    "                row = row + display.ljust(8) + '|'\n",
    "            printable_board.append(row)\n",
    "            printable_board.append(divider)\n",
    "        for m in range(len(printable_board)):\n",
    "            print(printable_board[m])\n",
    "    \n",
    "    def find_current_player(self):\n",
    "        return self.players[self.current_player_num]\n",
    "\n",
    "#     def find_current_player(self):\n",
    "#         for p in self.players:\n",
    "#             if p.turn:\n",
    "#                 return p\n",
    "            \n",
    "    def change_current_player(self):\n",
    "        if self.current_player_num == 0:\n",
    "            self.current_player_num = 1\n",
    "        elif self.current_player_num == 1:\n",
    "            self.current_player_num = 0\n",
    "#         for p in self.players:\n",
    "#             if p.turn:\n",
    "#                 p.turn = False\n",
    "#             else:\n",
    "#                 p.turn = True\n",
    "    \n",
    "    def ascii_to_int(self, upper_ascii):\n",
    "        return self.ascii_to_int_dict[upper_ascii]\n",
    "    \n",
    "    def int_to_ascii(self, input_int):\n",
    "        return self.int_to_ascii_dict[input_int]\n",
    "    \n",
    "    def generate_pos(self):\n",
    "        self.pos_dict={}\n",
    "        for i in range(self.board.height):\n",
    "            for j in range(self.board.width):\n",
    "                self.pos_dict[self.int_to_ascii(j) + str(i)] = (i, j)\n",
    "        self.inv_pos_dict = {v: k for k, v in self.pos_dict.items()}\n",
    "        \n",
    "    def ask_for_pick(self):\n",
    "        print('{}, Please pick a card!'.format(self.find_current_player().name))\n",
    "        while True:\n",
    "            if self.exit:\n",
    "                break\n",
    "            while True:\n",
    "                player_input = input(\"Please pick a card (From {} to {}): \".format( \\\n",
    "                           list(mygame.pos_dict.keys())[0], list(mygame.pos_dict.keys())[self.board.size-1]))\n",
    "                if player_input == \"exit\":\n",
    "                    self.exit = True\n",
    "                    break\n",
    "                elif player_input == \"rules\":\n",
    "                    self.print_rules()\n",
    "                    continue\n",
    "                if player_input not in self.pos_dict.keys():\n",
    "                    print(\"Oops! Please enter a value between {} and {}.\".format( \\\n",
    "                           list(mygame.pos_dict.keys())[0], list(mygame.pos_dict.keys())[self.board.size-1]))\n",
    "                    continue\n",
    "                else:\n",
    "                    break\n",
    "            if not self.exit:\n",
    "                x = int(player_input[1])\n",
    "                y = self.ascii_to_int(player_input[0])\n",
    "                if self.gamestate[(x,y)]:\n",
    "                    print(\"Card already picked, please pick again.\")\n",
    "                    continue\n",
    "                else:\n",
    "                    return (x,y)\n",
    "\n",
    "    def display_pick(self, pick):\n",
    "        print('{} picked {}, it revealed the card [{}]' \\\n",
    "              .format(self.find_current_player().name, self.inv_pos_dict[pick], self.card_position[pick].word))\n",
    "            \n",
    "    def update_rewards(self, word):\n",
    "        if word == 'flame':\n",
    "            self.flame_count += 1\n",
    "        elif word == 'ice':\n",
    "            self.ice_count += 1\n",
    "        elif word == 'flight':\n",
    "            self.flight_count += 1\n",
    "        elif word == 'powerup':\n",
    "            self.powerup_count += 1\n",
    "            \n",
    "    def update_bowsers(self, word):\n",
    "        if word == 'bowser':\n",
    "            self.bowser_count += 1\n",
    "        elif word == 'bowserjr':\n",
    "            self.bowserjr_count += 1\n",
    "            \n",
    "    def update_record(self, word):\n",
    "        self.players[self.current_player_num].record.append(word)\n",
    "#         self.players[0].name\n",
    "#         self.players = [Player(), Player()]\n",
    "        \n",
    "    def print_rules(self):\n",
    "        print('Game Rules')\n",
    "        \n",
    "    def print_current_count(self):\n",
    "        print('Current card counts are:')\n",
    "        print('{}x Flame  Powerup Card(s) ÷2 = {}x Flame  Powerup(s)'.format(self.flame_count, self.flame_count//2))\n",
    "        print('{}x Ice    Powerup Card(s) ÷2 = {}x Ice    Powerup(s)'.format(self.ice_count, self.ice_count//2))\n",
    "        print('{}x Flight Powerup Card(s) ÷2 = {}x Flight Powerup(s)'.format(self.flight_count, self.flight_count//2))\n",
    "        print('{}x Normal Powerup Card(s) ÷2 = {}x Normal Powerup(s)'.format(self.powerup_count, self.powerup_count//2))\n",
    "        print('{}x Bowser         Card(s)'.format(self.bowser_count))\n",
    "        print('{}x Bowser Jr.     Card(s)'.format(self.bowserjr_count))\n",
    "        \n",
    "    def print_results(self):\n",
    "        print('Game Over!')\n",
    "        if self.bowser_count >=2:\n",
    "            print('You were kicked out by Bowser!')\n",
    "        elif self.bowserjr_count >=2:\n",
    "            print('You were kicked out by Bowser Jr.!')\n",
    "        elif self.exit:\n",
    "            print('Goodbye! See you next time!')\n",
    "        else:\n",
    "            print('Amazing! You gained all the rewards!')\n",
    "        print('You have gained:') # use join\n",
    "        print('{}x Flame  Powerup(s)'.format(self.flame_count//2))\n",
    "        print('{}x Ice    Powerup(s)'.format(self.ice_count//2))\n",
    "        print('{}x Flight Powerup(s)'.format(self.flight_count//2))\n",
    "        print('{}x Normal Powerup(s)'.format(self.powerup_count//2))"
   ]
  },
  {
   "cell_type": "code",
   "execution_count": 77,
   "metadata": {},
   "outputs": [
    {
     "name": "stdout",
     "output_type": "stream",
     "text": [
      "Please input name for Player 1 (Default is Mario): \n",
      "Please input name for Player 2 (Default is Luigi): \n",
      "      A        B        C        D        E        F     \n",
      "  +========+========+========+========+========+========+\n",
      "0 |pick me!|pick me!|pick me!|pick me!|pick me!|pick me!|\n",
      "  +========+========+========+========+========+========+\n",
      "1 |pick me!|pick me!|pick me!|pick me!|pick me!|pick me!|\n",
      "  +========+========+========+========+========+========+\n",
      "2 |pick me!|pick me!|pick me!|pick me!|pick me!|pick me!|\n",
      "  +========+========+========+========+========+========+\n",
      "Mario, Please pick a card!\n",
      "Please pick a card (From A0 to F2): A0\n",
      "Mario picked A0, it revealed the card [bowser]\n",
      "      A        B        C        D        E        F     \n",
      "  +========+========+========+========+========+========+\n",
      "0 |bowser  |pick me!|pick me!|pick me!|pick me!|pick me!|\n",
      "  +========+========+========+========+========+========+\n",
      "1 |pick me!|pick me!|pick me!|pick me!|pick me!|pick me!|\n",
      "  +========+========+========+========+========+========+\n",
      "2 |pick me!|pick me!|pick me!|pick me!|pick me!|pick me!|\n",
      "  +========+========+========+========+========+========+\n",
      "Current card counts are:\n",
      "0x Flame  Powerup Card(s) ÷2 = 0x Flame  Powerup(s)\n",
      "0x Ice    Powerup Card(s) ÷2 = 0x Ice    Powerup(s)\n",
      "0x Flight Powerup Card(s) ÷2 = 0x Flight Powerup(s)\n",
      "0x Normal Powerup Card(s) ÷2 = 0x Normal Powerup(s)\n",
      "1x Bowser         Card(s)\n",
      "0x Bowser Jr.     Card(s)\n",
      "Luigi, Please pick a card!\n",
      "Please pick a card (From A0 to F2): A0\n",
      "Card already picked, please pick again.\n",
      "Please pick a card (From A0 to F2): exit\n",
      "Game Over!\n",
      "Goodbye! See you next time!\n",
      "You have gained:\n",
      "0x Flame  Powerup(s)\n",
      "0x Ice    Powerup(s)\n",
      "0x Flight Powerup(s)\n",
      "0x Normal Powerup(s)\n"
     ]
    }
   ],
   "source": [
    "#def main(board_size_selection, r_to_p_ratio):\n",
    "mygame = Game()\n",
    "mygame.init_game()\n",
    "while mygame.bowser_count < mygame.dead_by_bowser and mygame.bowserjr_count < mygame.dead_by_bowserjr and not mygame.exit:\n",
    "    pick = mygame.ask_for_pick()\n",
    "    if not mygame.exit:\n",
    "        mygame.display_pick(pick)\n",
    "        mygame.update_gamestate_and_rewards(pick)\n",
    "        mygame.print_board()\n",
    "        mygame.print_current_count()\n",
    "        mygame.change_current_player()\n",
    "mygame.print_results()"
   ]
  },
  {
   "cell_type": "code",
   "execution_count": 75,
   "metadata": {},
   "outputs": [
    {
     "data": {
      "text/plain": [
       "{'bowserjr': 1, 'flame': 1}"
      ]
     },
     "execution_count": 75,
     "metadata": {},
     "output_type": "execute_result"
    }
   ],
   "source": [
    "dict((x,mygame.players[1].record.count(x)) for x in set(mygame.players[1].record))"
   ]
  },
  {
   "cell_type": "code",
   "execution_count": 74,
   "metadata": {},
   "outputs": [
    {
     "data": {
      "text/plain": [
       "1"
      ]
     },
     "execution_count": 74,
     "metadata": {},
     "output_type": "execute_result"
    }
   ],
   "source": [
    "mygame.players[1].record.count('flame')"
   ]
  },
  {
   "cell_type": "code",
   "execution_count": 61,
   "metadata": {},
   "outputs": [],
   "source": [
    "mygame.current_player_num=1"
   ]
  },
  {
   "cell_type": "code",
   "execution_count": 59,
   "metadata": {},
   "outputs": [],
   "source": [
    "if mygame.current_player_num == 0:\n",
    "    mygame.current_player_num == 1\n",
    "elif mygame.current_player_num == 1:\n",
    "    mygame.current_player_num == 0"
   ]
  },
  {
   "cell_type": "code",
   "execution_count": 62,
   "metadata": {},
   "outputs": [
    {
     "data": {
      "text/plain": [
       "1"
      ]
     },
     "execution_count": 62,
     "metadata": {},
     "output_type": "execute_result"
    }
   ],
   "source": [
    "mygame.current_player_num"
   ]
  },
  {
   "cell_type": "code",
   "execution_count": null,
   "metadata": {},
   "outputs": [],
   "source": []
  }
 ],
 "metadata": {
  "kernelspec": {
   "display_name": "Python 3",
   "language": "python",
   "name": "python3"
  },
  "language_info": {
   "codemirror_mode": {
    "name": "ipython",
    "version": 3
   },
   "file_extension": ".py",
   "mimetype": "text/x-python",
   "name": "python",
   "nbconvert_exporter": "python",
   "pygments_lexer": "ipython3",
   "version": "3.6.3"
  },
  "toc": {
   "nav_menu": {},
   "number_sections": true,
   "sideBar": true,
   "skip_h1_title": false,
   "title_cell": "Table of Contents",
   "title_sidebar": "Contents",
   "toc_cell": true,
   "toc_position": {},
   "toc_section_display": true,
   "toc_window_display": true
  }
 },
 "nbformat": 4,
 "nbformat_minor": 2
}
