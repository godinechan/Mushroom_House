{
 "cells": [
  {
   "cell_type": "markdown",
   "metadata": {
    "toc": true
   },
   "source": [
    "<h1>Table of Contents<span class=\"tocSkip\"></span></h1>\n",
    "<div class=\"toc\"><ul class=\"toc-item\"></ul></div>"
   ]
  },
  {
   "cell_type": "code",
   "execution_count": 140,
   "metadata": {},
   "outputs": [],
   "source": [
    "import random\n",
    "from collections import Counter\n",
    "from string import ascii_uppercase"
   ]
  },
  {
   "cell_type": "code",
   "execution_count": 2,
   "metadata": {},
   "outputs": [],
   "source": [
    "class Board:\n",
    "    \"\"\"\n",
    "    Description: The Board class stores attributes such as the height, width, size and slots of the board.\n",
    "    \"\"\"\n",
    "    def __init__(self, height, width):\n",
    "        self.height = height\n",
    "        self.width = width\n",
    "        self.size = self.height * self.width\n",
    "        self.slots = {(i, j): None for i in range(height) for j in range(width)}"
   ]
  },
  {
   "cell_type": "code",
   "execution_count": 3,
   "metadata": {},
   "outputs": [],
   "source": [
    "class Card:\n",
    "    \"\"\"\n",
    "    Description: The Card class stores attributes such as the word on the card and its status as flipped/not flipped.\n",
    "    \"\"\"\n",
    "    def __init__(self, word):\n",
    "        \"\"\"\n",
    "        Description: Constructor for the card which define the contents(word) and flip status\n",
    "        Input:\n",
    "            word, (string) : the content on the face of the card\n",
    "        \"\"\"\n",
    "        self.word = word   #words are taken as strings for the card\n",
    "        self.flip = False  #the cards are defaulted to be not flipped"
   ]
  },
  {
   "cell_type": "code",
   "execution_count": 52,
   "metadata": {},
   "outputs": [],
   "source": [
    "class Player:\n",
    "    \"\"\"\n",
    "    Description: The Player class stores attributes such as the name of the player, the player number and\n",
    "                 record the card selections of the players throughout the game.\n",
    "    \"\"\"\n",
    "    def __init__(self):\n",
    "        self.name = None      #Player name\n",
    "        self.player_num = 0   #Player number\n",
    "        self.record = []      #Record of the player's card selection"
   ]
  },
  {
   "cell_type": "code",
   "execution_count": 155,
   "metadata": {},
   "outputs": [],
   "source": [
    "class Game:\n",
    "    \"\"\"\n",
    "    Description: The Game class stores all attributes of the current game instance, including\n",
    "                 constants, variables, as well as all functions required to run the game.\n",
    "    \"\"\"\n",
    "    def __init__(self):\n",
    "        \"\"\"Constructor for the game which define constants and initializate variables\"\"\"\n",
    "        #Initialization of game objects\n",
    "        self.board = Board(3, 6)\n",
    "        self.card_position = {}\n",
    "        self.exit = False\n",
    "        #Constants\n",
    "        self.R_TO_P_RATIO   = 3.5\n",
    "        self.SPECIALS_RATIO = 2/7\n",
    "        self.POWERUP_RATIO  = 1/7\n",
    "        self.BOWSERS_RATIO  = 0.5\n",
    "        self.PAIR           = 2\n",
    "        #initialziation of variables\n",
    "        self.current_player_num = 0\n",
    "        self.flame_count        = 0\n",
    "        self.ice_count          = 0\n",
    "        self.flight_count       = 0\n",
    "        self.powerup_count      = 0\n",
    "        self.bowser_count       = 0\n",
    "        self.bowserjr_count     = 0\n",
    "        #reference dictionaries\n",
    "        self.int_to_ascii_dict = {i: ascii_uppercase[i] for i in range(self.board.width)}\n",
    "        self.ascii_to_int_dict = {v: k for k, v in self.int_to_ascii_dict.items()}\n",
    "        \n",
    "    def init_game(self):\n",
    "        \"\"\"\n",
    "        Description: Game initialization function.\n",
    "        \"\"\"\n",
    "        self.init_gamestate()               #initializate game state\n",
    "        #create a deck, shuffle it and place it on the board\n",
    "        self.place_deck(self.shuffle_deck(self.create_deck()),self.board)\n",
    "        self.players = [Player(), Player()] #initializate 2 players for the game\n",
    "        self.ask_for_name()                 #inquire players for their names\n",
    "        self.generate_pos()                 #map position on the board with a grid\n",
    "        self.print_board()                  #print game board\n",
    "    \n",
    "    def ask_for_name(self):\n",
    "        \"\"\"\n",
    "        Description: Inquire names from players.\n",
    "                     As a two-player game, define default players as Mario and Luigi.\n",
    "        \"\"\"\n",
    "        default = ['Mario', 'Luigi']\n",
    "        for i in range(2):\n",
    "            self.players[i].player_num = i + 1\n",
    "            self.players[i].name = input('Please input name for Player {} (Default is {}): ' \\\n",
    "                                          .format(self.players[i].player_num, default[i])) or default[i]\n",
    "        \n",
    "    def init_gamestate(self):\n",
    "        \"\"\"\n",
    "        Description: Initializate game state as all cards being not flipped for the game.\n",
    "        \"\"\"\n",
    "        self.gamestate = {}\n",
    "        for key in self.board.slots.keys():\n",
    "            self.gamestate[key] = Card(None).flip\n",
    "    \n",
    "    def create_deck(self):\n",
    "        \"\"\"\n",
    "        Description: Create a deck of the size of the board for the game.\n",
    "        Output:\n",
    "            deck, (list) : a list consisting the contents of each card in the deck\n",
    "        \"\"\"\n",
    "        self.num_penalty = int(self.board.size / (self.R_TO_P_RATIO + 1))\n",
    "        self.num_rewards = self.board.size - self.num_penalty\n",
    "        rewards   = Counter({'flame'   : round(self.num_rewards * self.SPECIALS_RATIO),\n",
    "                             'ice'     : round(self.num_rewards * self.SPECIALS_RATIO),\n",
    "                             'flight'  : round(self.num_rewards * self.SPECIALS_RATIO),\n",
    "                             'powerup' : round(self.num_rewards * self.POWERUP_RATIO)})\n",
    "        penalties = Counter({'bowser'  : round(self.num_penalty * self.BOWSERS_RATIO),\n",
    "                             'bowserjr': round(self.num_penalty * self.BOWSERS_RATIO)})\n",
    "        all_items = rewards + penalties\n",
    "#         self.limit_bowser   = penalties['bowser']\n",
    "#         self.limit_bowserjr = penalties['bowserjr']\n",
    "        deck = []\n",
    "        for key, value in all_items.items():\n",
    "            for i in range(value):\n",
    "                deck.append(Card(str(key)))\n",
    "        return deck\n",
    "    \n",
    "    def shuffle_deck(self, deck):\n",
    "        \"\"\"\n",
    "        Description: Helper function to shuffle the deck.\n",
    "        Input:\n",
    "            deck, (list) : a deck with contents defined on each card\n",
    "        Output:\n",
    "            deck, (list) : the shuffled deck\n",
    "        \"\"\"\n",
    "        random.shuffle(deck)\n",
    "        return deck\n",
    "    \n",
    "    def place_deck(self, deck, board):\n",
    "        \"\"\"\n",
    "        Description: Place deck on the board by building a dictionary as an attribute of the game\n",
    "                     with position on the board as keys and the cards as the values.\n",
    "        Input:\n",
    "            deck, (list) : a deck with contents defined on each card\n",
    "            board, (Broad) : the game board\n",
    "        \"\"\"\n",
    "        keys = list(self.board.slots.keys())\n",
    "        for count, key in enumerate(keys):\n",
    "            self.card_position[key] = deck[count]\n",
    "    \n",
    "    def update_gamestate_and_rewards(self, pos):\n",
    "        \"\"\"\n",
    "        Description: Taking the position selected as input, update the game state as well as\n",
    "                     the rewards and penalties accrued. Also record the moves of the players.\n",
    "        Input:\n",
    "            pos, (tuple) : position selected on the board as (m, n)\n",
    "        \"\"\"\n",
    "        self.gamestate[pos] = True  #update game state by flipping the card at the selected position\n",
    "        self.update_rewards(self.card_position[pos].word)   #updated accumulated rewards\n",
    "        self.update_penalties(self.card_position[pos].word) #updated accumulated penalties\n",
    "        self.update_record(self.card_position[pos].word)    #updated player records\n",
    "            \n",
    "    def print_board(self):\n",
    "        \"\"\"\n",
    "        Description: Print game board with ascii charaters to terminal.\n",
    "        \"\"\"\n",
    "        indent = '  '\n",
    "        divider = indent + '+'\n",
    "        column_index = indent\n",
    "        for i in range(self.board.width):\n",
    "            divider += '========+'\n",
    "            column_index += '    ' + ascii_uppercase[i] + '    '\n",
    "        printable_board = []\n",
    "        printable_board.append(column_index)\n",
    "        printable_board.append(divider)\n",
    "        for i in range(self.board.height):\n",
    "            row = str(i) + ' |'\n",
    "            for j in range(self.board.width):\n",
    "                if self.gamestate[(i,j)]:\n",
    "                    display = self.card_position[(i,j)].word\n",
    "                else:\n",
    "                    display = 'pick me!'\n",
    "                row = row + display.ljust(8) + '|'\n",
    "            printable_board.append(row)\n",
    "            printable_board.append(divider)\n",
    "        for m in range(len(printable_board)):\n",
    "            print(printable_board[m])\n",
    "    \n",
    "    def find_current_player(self):\n",
    "        \"\"\"Helper function to locate current player with current player number.\"\"\"\n",
    "        return self.players[self.current_player_num]\n",
    "            \n",
    "    def change_current_player(self):\n",
    "        \"\"\"Helper function to flip current player number.\"\"\"\n",
    "        if self.current_player_num == 0:\n",
    "            self.current_player_num = 1\n",
    "        elif self.current_player_num == 1:\n",
    "            self.current_player_num = 0\n",
    "    \n",
    "    def ascii_to_int(self, upper_ascii):\n",
    "        \"\"\"Helper function to change ascii character (uppercase) to integer.\"\"\"\n",
    "        return self.ascii_to_int_dict[upper_ascii]\n",
    "    \n",
    "    def int_to_ascii(self, input_int):\n",
    "        \"\"\"Helper function to change integer to ascii character (uppercase).\"\"\"\n",
    "        return self.int_to_ascii_dict[input_int]\n",
    "    \n",
    "    def generate_pos(self):\n",
    "        \"\"\"\n",
    "        Description: Generate a dictionary that maps position on the board to a grid, and vise versa.\n",
    "        \"\"\"\n",
    "        self.pos_dict={}\n",
    "        for i in range(self.board.height):\n",
    "            for j in range(self.board.width):\n",
    "                self.pos_dict[self.int_to_ascii(j) + str(i)] = (i, j)\n",
    "        self.inv_pos_dict = {v: k for k, v in self.pos_dict.items()}\n",
    "        \n",
    "    def ask_for_pick(self):\n",
    "        \"\"\"\n",
    "        Description: Ask players for their pick of the card on the game board.\n",
    "                     Limit players to pick only cards that are not flipped and within bounds on the board.\n",
    "                     Takes input \"exit\" to quite the game.\n",
    "                     Takes input \"rules\" to print game rules\n",
    "        Output:\n",
    "            (x,y), (tuple) : The position of the card that was selected by the player\n",
    "        \"\"\"\n",
    "        #Tell the current player to pick a card\n",
    "        print('{}, Please pick a card!'.format(self.find_current_player().name))\n",
    "        while True:\n",
    "            if self.exit: #Exit the game if \"exit\" was typed\n",
    "                break\n",
    "            while True:\n",
    "                #Ask for input\n",
    "                player_input = input(\"Please pick a card (From {} to {}): \".format( \\\n",
    "                      list(mygame.pos_dict.keys())[0], list(mygame.pos_dict.keys())[self.board.size-1]))\n",
    "                if player_input == \"exit\":\n",
    "                    self.exit = True #Exit the game if \"exit\" was typed\n",
    "                    break\n",
    "                elif player_input == \"rules\":\n",
    "                    self.print_rules() #Print game rules\n",
    "                    continue\n",
    "                if player_input not in self.pos_dict.keys(): #Ask for input again if out of bounds\n",
    "                    print(\"Oops! Please enter a value between {} and {}.\".format( \\\n",
    "                           list(mygame.pos_dict.keys())[0], list(mygame.pos_dict.keys())[self.board.size-1]))\n",
    "                    continue\n",
    "                else:\n",
    "                    break\n",
    "            if not self.exit:\n",
    "                x = int(player_input[1])\n",
    "                y = self.ascii_to_int(player_input[0])\n",
    "                if self.gamestate[(x,y)]: #If card was already reveals, ask for input again\n",
    "                    print(\"Card already picked, please pick again.\")\n",
    "                    continue\n",
    "                else:\n",
    "                    return (x,y) #return position of the selected card\n",
    "\n",
    "    def display_pick(self, pick):\n",
    "        \"\"\"Helper function to print the selection and result of the player on the terminal.\"\"\"\n",
    "        print('{} picked {}, it revealed the card [{}]' \\\n",
    "              .format(self.find_current_player().name, self.inv_pos_dict[pick], self.card_position[pick].word))\n",
    "            \n",
    "    def update_rewards(self, word):\n",
    "        \"\"\"\n",
    "        Description: Update the count of rewards according to what card content is reveals\n",
    "        Input:\n",
    "            word, (string) : The content on the selected card\n",
    "        \"\"\"\n",
    "        if word == 'flame':\n",
    "            self.flame_count += 1\n",
    "        elif word == 'ice':\n",
    "            self.ice_count += 1\n",
    "        elif word == 'flight':\n",
    "            self.flight_count += 1\n",
    "        elif word == 'powerup':\n",
    "            self.powerup_count += 1\n",
    "            \n",
    "    def update_penalties(self, word):\n",
    "        \"\"\"\n",
    "        Description: Update the count of penalties according to what card content is reveals\n",
    "        Input:\n",
    "            word, (string) : The content on the selected card\n",
    "        \"\"\"\n",
    "        if word == 'bowser':\n",
    "            self.bowser_count += 1\n",
    "        elif word == 'bowserjr':\n",
    "            self.bowserjr_count += 1\n",
    "            \n",
    "    def update_record(self, word):\n",
    "        \"\"\"Helper function to record the players selection as content of the cards picked by the players.\"\"\"\n",
    "        self.players[self.current_player_num].record.append(word)\n",
    "        \n",
    "    def print_welcome(self):\n",
    "        \"\"\"Helper function to print the welcome message of the game.\"\"\"\n",
    "        print('Welcome to the Mushroom House!')\n",
    "        self.print_rules()\n",
    "        \n",
    "    def print_rules(self):\n",
    "        \"\"\"Helper function to print the rules of the game.\"\"\"\n",
    "        print('Game Rules:')\n",
    "        print('Game Rules')\n",
    "        print('Game Rules')\n",
    "        \n",
    "    def print_current_count(self):\n",
    "        \"\"\"Helper function to print the current accured cards by the players in the game.\"\"\"\n",
    "        print('Current card counts are:')\n",
    "        print('{}x Flame  Powerup Card(s) ÷2 = {}x Flame  Powerup(s)'.format(self.flame_count  , self.flame_count  // self.PAIR))\n",
    "        print('{}x Ice    Powerup Card(s) ÷2 = {}x Ice    Powerup(s)'.format(self.ice_count    , self.ice_count    // self.PAIR))\n",
    "        print('{}x Flight Powerup Card(s) ÷2 = {}x Flight Powerup(s)'.format(self.flight_count , self.flight_count // self.PAIR))\n",
    "        print('{}x Normal Powerup Card(s) ÷2 = {}x Normal Powerup(s)'.format(self.powerup_count, self.powerup_count// self.PAIR))\n",
    "        print('{}x Bowser         Card(s)'.format(self.bowser_count))\n",
    "        print('{}x Bowser Jr.     Card(s)'.format(self.bowserjr_count))\n",
    "        \n",
    "    def print_results(self):\n",
    "        \"\"\"Helper function to print the results at the end of the game.\"\"\"\n",
    "        print('Game Over!')\n",
    "        if self.bowser_count >= self.PAIR:\n",
    "            print('You were kicked out by Bowser!')\n",
    "        elif self.bowserjr_count >= self.PAIR:\n",
    "            print('You were kicked out by Bowser Jr.!')\n",
    "        elif self.exit:\n",
    "            print('Goodbye! See you next time!')\n",
    "        else:\n",
    "            print('Amazing! You gained all the rewards!')\n",
    "        print('You have gained:')\n",
    "        print('{}x Flame  Powerup(s)'.format(self.flame_count   // self.PAIR))\n",
    "        print('{}x Ice    Powerup(s)'.format(self.ice_count     // self.PAIR))\n",
    "        print('{}x Flight Powerup(s)'.format(self.flight_count  // self.PAIR))\n",
    "        print('{}x Normal Powerup(s)'.format(self.powerup_count // self.PAIR))"
   ]
  },
  {
   "cell_type": "code",
   "execution_count": 156,
   "metadata": {},
   "outputs": [
    {
     "name": "stdout",
     "output_type": "stream",
     "text": [
      "Please input name for Player 1 (Default is Mario): \n",
      "Please input name for Player 2 (Default is Luigi): \n",
      "      A        B        C        D        E        F    \n",
      "  +========+========+========+========+========+========+\n",
      "0 |pick me!|pick me!|pick me!|pick me!|pick me!|pick me!|\n",
      "  +========+========+========+========+========+========+\n",
      "1 |pick me!|pick me!|pick me!|pick me!|pick me!|pick me!|\n",
      "  +========+========+========+========+========+========+\n",
      "2 |pick me!|pick me!|pick me!|pick me!|pick me!|pick me!|\n",
      "  +========+========+========+========+========+========+\n",
      "Mario, Please pick a card!\n",
      "Please pick a card (From A0 to F2): exit\n",
      "Game Over!\n",
      "Goodbye! See you next time!\n",
      "You have gained:\n",
      "0x Flame  Powerup(s)\n",
      "0x Ice    Powerup(s)\n",
      "0x Flight Powerup(s)\n",
      "0x Normal Powerup(s)\n"
     ]
    }
   ],
   "source": [
    "#def main(board_size_selection, r_to_p_ratio):\n",
    "mygame = Game()    #Create game\n",
    "mygame.init_game() #Initialize game\n",
    "#while mygame.bowser_count < mygame.limit_bowser and mygame.bowserjr_count < mygame.limit_bowserjr and not mygame.exit:\n",
    "#Continue the game until reaching conditions to end game or exiting\n",
    "while (    mygame.bowser_count   < mygame.PAIR\n",
    "       and mygame.bowserjr_count < mygame.PAIR\n",
    "       and not mygame.exit):\n",
    "    pick = mygame.ask_for_pick()       #ask player to pick a card\n",
    "    if not mygame.exit:\n",
    "        mygame.display_pick(pick)      #display the pick and the result\n",
    "        mygame.update_gamestate_and_rewards(pick) #perform updates in game\n",
    "        mygame.print_board()           #print game board on terminal\n",
    "        mygame.print_current_count()   #print current card counts\n",
    "        mygame.change_current_player() #switch players\n",
    "mygame.print_results()                 #print results at the end of the game"
   ]
  },
  {
   "cell_type": "code",
   "execution_count": 122,
   "metadata": {},
   "outputs": [
    {
     "data": {
      "text/plain": [
       "[(0, 0),\n",
       " (0, 1),\n",
       " (0, 2),\n",
       " (0, 3),\n",
       " (0, 4),\n",
       " (0, 5),\n",
       " (1, 0),\n",
       " (1, 1),\n",
       " (1, 2),\n",
       " (1, 3),\n",
       " (1, 4),\n",
       " (1, 5),\n",
       " (2, 0),\n",
       " (2, 1),\n",
       " (2, 2),\n",
       " (2, 3),\n",
       " (2, 4),\n",
       " (2, 5)]"
      ]
     },
     "execution_count": 122,
     "metadata": {},
     "output_type": "execute_result"
    }
   ],
   "source": [
    "keys = list(mygame.board.slots.keys())\n",
    "keys"
   ]
  },
  {
   "cell_type": "code",
   "execution_count": 136,
   "metadata": {},
   "outputs": [
    {
     "data": {
      "text/plain": [
       "[<__main__.Card at 0x10476d0b8>,\n",
       " <__main__.Card at 0x10476d048>,\n",
       " <__main__.Card at 0x10476d198>,\n",
       " <__main__.Card at 0x10476d278>,\n",
       " <__main__.Card at 0x10476d320>,\n",
       " <__main__.Card at 0x10476d2b0>,\n",
       " <__main__.Card at 0x10476d2e8>,\n",
       " <__main__.Card at 0x10476d0f0>,\n",
       " <__main__.Card at 0x10476db00>,\n",
       " <__main__.Card at 0x10476dc88>,\n",
       " <__main__.Card at 0x10476dc18>,\n",
       " <__main__.Card at 0x10476d4a8>,\n",
       " <__main__.Card at 0x10476d828>,\n",
       " <__main__.Card at 0x10476da20>,\n",
       " <__main__.Card at 0x10476d940>,\n",
       " <__main__.Card at 0x10476d5f8>,\n",
       " <__main__.Card at 0x10476d7f0>,\n",
       " <__main__.Card at 0x10476de80>]"
      ]
     },
     "execution_count": 136,
     "metadata": {},
     "output_type": "execute_result"
    }
   ],
   "source": [
    "md = mygame.create_deck()\n",
    "md"
   ]
  },
  {
   "cell_type": "code",
   "execution_count": 137,
   "metadata": {},
   "outputs": [
    {
     "data": {
      "text/plain": [
       "'flame'"
      ]
     },
     "execution_count": 137,
     "metadata": {},
     "output_type": "execute_result"
    }
   ],
   "source": [
    "md[0].word"
   ]
  },
  {
   "cell_type": "code",
   "execution_count": 138,
   "metadata": {},
   "outputs": [],
   "source": [
    "sd = mygame.shuffle_deck(mygame.create_deck())"
   ]
  },
  {
   "cell_type": "code",
   "execution_count": 139,
   "metadata": {},
   "outputs": [
    {
     "ename": "TypeError",
     "evalue": "'NoneType' object is not subscriptable",
     "output_type": "error",
     "traceback": [
      "\u001b[0;31m---------------------------------------------------------------------------\u001b[0m",
      "\u001b[0;31mTypeError\u001b[0m                                 Traceback (most recent call last)",
      "\u001b[0;32m<ipython-input-139-e070b9f7143d>\u001b[0m in \u001b[0;36m<module>\u001b[0;34m()\u001b[0m\n\u001b[0;32m----> 1\u001b[0;31m \u001b[0msd\u001b[0m\u001b[0;34m[\u001b[0m\u001b[0;36m0\u001b[0m\u001b[0;34m]\u001b[0m\u001b[0;34m\u001b[0m\u001b[0m\n\u001b[0m",
      "\u001b[0;31mTypeError\u001b[0m: 'NoneType' object is not subscriptable"
     ]
    }
   ],
   "source": [
    "sd[0]"
   ]
  },
  {
   "cell_type": "code",
   "execution_count": 120,
   "metadata": {},
   "outputs": [
    {
     "ename": "TypeError",
     "evalue": "'NoneType' object is not subscriptable",
     "output_type": "error",
     "traceback": [
      "\u001b[0;31m---------------------------------------------------------------------------\u001b[0m",
      "\u001b[0;31mTypeError\u001b[0m                                 Traceback (most recent call last)",
      "\u001b[0;32m<ipython-input-120-1e19e8349691>\u001b[0m in \u001b[0;36m<module>\u001b[0;34m()\u001b[0m\n\u001b[0;32m----> 1\u001b[0;31m \u001b[0mmygame\u001b[0m\u001b[0;34m.\u001b[0m\u001b[0mplace_deck\u001b[0m\u001b[0;34m(\u001b[0m\u001b[0mmygame\u001b[0m\u001b[0;34m.\u001b[0m\u001b[0mshuffle_deck\u001b[0m\u001b[0;34m(\u001b[0m\u001b[0mmygame\u001b[0m\u001b[0;34m.\u001b[0m\u001b[0mcreate_deck\u001b[0m\u001b[0;34m(\u001b[0m\u001b[0;34m)\u001b[0m\u001b[0;34m)\u001b[0m\u001b[0;34m,\u001b[0m\u001b[0mmygame\u001b[0m\u001b[0;34m.\u001b[0m\u001b[0mboard\u001b[0m\u001b[0;34m)\u001b[0m\u001b[0;34m\u001b[0m\u001b[0m\n\u001b[0m",
      "\u001b[0;32m<ipython-input-112-64260b73882f>\u001b[0m in \u001b[0;36mplace_deck\u001b[0;34m(self, deck, board)\u001b[0m\n\u001b[1;32m     99\u001b[0m         \u001b[0mkeys\u001b[0m \u001b[0;34m=\u001b[0m \u001b[0mlist\u001b[0m\u001b[0;34m(\u001b[0m\u001b[0mself\u001b[0m\u001b[0;34m.\u001b[0m\u001b[0mboard\u001b[0m\u001b[0;34m.\u001b[0m\u001b[0mslots\u001b[0m\u001b[0;34m.\u001b[0m\u001b[0mkeys\u001b[0m\u001b[0;34m(\u001b[0m\u001b[0;34m)\u001b[0m\u001b[0;34m)\u001b[0m\u001b[0;34m\u001b[0m\u001b[0m\n\u001b[1;32m    100\u001b[0m         \u001b[0;32mfor\u001b[0m \u001b[0mcount\u001b[0m\u001b[0;34m,\u001b[0m \u001b[0mkey\u001b[0m \u001b[0;32min\u001b[0m \u001b[0menumerate\u001b[0m\u001b[0;34m(\u001b[0m\u001b[0mkeys\u001b[0m\u001b[0;34m)\u001b[0m\u001b[0;34m:\u001b[0m\u001b[0;34m\u001b[0m\u001b[0m\n\u001b[0;32m--> 101\u001b[0;31m             \u001b[0mself\u001b[0m\u001b[0;34m.\u001b[0m\u001b[0mcard_position\u001b[0m\u001b[0;34m[\u001b[0m\u001b[0mkey\u001b[0m\u001b[0;34m]\u001b[0m \u001b[0;34m=\u001b[0m \u001b[0mdeck\u001b[0m\u001b[0;34m[\u001b[0m\u001b[0mcount\u001b[0m\u001b[0;34m]\u001b[0m\u001b[0;34m\u001b[0m\u001b[0m\n\u001b[0m\u001b[1;32m    102\u001b[0m \u001b[0;34m\u001b[0m\u001b[0m\n\u001b[1;32m    103\u001b[0m     \u001b[0;32mdef\u001b[0m \u001b[0mupdate_gamestate_and_rewards\u001b[0m\u001b[0;34m(\u001b[0m\u001b[0mself\u001b[0m\u001b[0;34m,\u001b[0m \u001b[0mpos\u001b[0m\u001b[0;34m)\u001b[0m\u001b[0;34m:\u001b[0m\u001b[0;34m\u001b[0m\u001b[0m\n",
      "\u001b[0;31mTypeError\u001b[0m: 'NoneType' object is not subscriptable"
     ]
    }
   ],
   "source": [
    "mygame.place_deck(mygame.shuffle_deck(mygame.create_deck()),mygame.board)"
   ]
  },
  {
   "cell_type": "code",
   "execution_count": 75,
   "metadata": {},
   "outputs": [
    {
     "data": {
      "text/plain": [
       "{'bowserjr': 1, 'flame': 1}"
      ]
     },
     "execution_count": 75,
     "metadata": {},
     "output_type": "execute_result"
    }
   ],
   "source": [
    "dict((x,mygame.players[1].record.count(x)) for x in set(mygame.players[1].record))"
   ]
  },
  {
   "cell_type": "code",
   "execution_count": 74,
   "metadata": {},
   "outputs": [
    {
     "data": {
      "text/plain": [
       "1"
      ]
     },
     "execution_count": 74,
     "metadata": {},
     "output_type": "execute_result"
    }
   ],
   "source": [
    "mygame.players[1].record.count('flame')"
   ]
  },
  {
   "cell_type": "code",
   "execution_count": 61,
   "metadata": {},
   "outputs": [],
   "source": [
    "mygame.current_player_num=1"
   ]
  },
  {
   "cell_type": "code",
   "execution_count": 59,
   "metadata": {},
   "outputs": [],
   "source": [
    "if mygame.current_player_num == 0:\n",
    "    mygame.current_player_num == 1\n",
    "elif mygame.current_player_num == 1:\n",
    "    mygame.current_player_num == 0"
   ]
  },
  {
   "cell_type": "code",
   "execution_count": 62,
   "metadata": {},
   "outputs": [
    {
     "data": {
      "text/plain": [
       "1"
      ]
     },
     "execution_count": 62,
     "metadata": {},
     "output_type": "execute_result"
    }
   ],
   "source": [
    "mygame.current_player_num"
   ]
  },
  {
   "cell_type": "code",
   "execution_count": null,
   "metadata": {},
   "outputs": [],
   "source": []
  }
 ],
 "metadata": {
  "kernelspec": {
   "display_name": "Python 3",
   "language": "python",
   "name": "python3"
  },
  "language_info": {
   "codemirror_mode": {
    "name": "ipython",
    "version": 3
   },
   "file_extension": ".py",
   "mimetype": "text/x-python",
   "name": "python",
   "nbconvert_exporter": "python",
   "pygments_lexer": "ipython3",
   "version": "3.6.3"
  },
  "toc": {
   "nav_menu": {},
   "number_sections": true,
   "sideBar": true,
   "skip_h1_title": false,
   "title_cell": "Table of Contents",
   "title_sidebar": "Contents",
   "toc_cell": true,
   "toc_position": {},
   "toc_section_display": true,
   "toc_window_display": true
  }
 },
 "nbformat": 4,
 "nbformat_minor": 2
}
